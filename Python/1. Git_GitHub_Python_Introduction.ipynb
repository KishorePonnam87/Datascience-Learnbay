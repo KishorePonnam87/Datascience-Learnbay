{
 "cells": [
  {
   "cell_type": "markdown",
   "metadata": {},
   "source": [
    "# Topics to be covered\n",
    "    Git & Git hub\n",
    "    What is VCS?\n",
    "    What is Git and Github?\n",
    "    What is DVCS?\n",
    "    Why do we need Git and Git hub?\n",
    "    Set up, clone, add, commit, push, pull,\n",
    "    Why we use OS and Programming Language? \n",
    "    High Level vs Low Level Programming Language \n",
    "    Why are we Learning Python?\n",
    "    Compiler vs Interpreter\n",
    "    Compiled vs Interpreted Languages\n",
    "    Different Types of Errors in Python\n",
    "    Compile time vs Run time Errors in Python \n",
    "    Source code, Byte code, Machine code\n",
    "    How a Python Program runs on our system."
   ]
  },
  {
   "cell_type": "markdown",
   "metadata": {},
   "source": [
    "# What is Git?"
   ]
  },
  {
   "cell_type": "code",
   "execution_count": null,
   "metadata": {},
   "outputs": [],
   "source": [
    "CLI - \n",
    "GUI - Limited"
   ]
  },
  {
   "cell_type": "code",
   "execution_count": null,
   "metadata": {},
   "outputs": [],
   "source": [
    "Git"
   ]
  },
  {
   "cell_type": "code",
   "execution_count": null,
   "metadata": {},
   "outputs": [],
   "source": [
    "Windows - Git bash"
   ]
  },
  {
   "cell_type": "code",
   "execution_count": null,
   "metadata": {},
   "outputs": [],
   "source": [
    "# Os Commands:-\n",
    "pwd -> Present Working directory\n",
    "ls -> lists all files and folders in currnet directory\n",
    "ls -al -> lists all files and folders in currnet directory including hiiden files\n",
    "cd .. -> Move one directory back\n",
    "cd Directory_Name/Path -> Move to Specified directory availbale in CWD\n",
    "mkdir Directory_Name -> Creates a directory with specified name\n",
    "mv 'src directory name' 'dst directory name' - moves\n",
    "rmdir Dir_name - removes directory\n",
    "\n",
    "\n",
    "# Git Commands:-\n",
    "For set up\n",
    "git config --global user.name User_name_in_quotation_if_space_in_name\n",
    "git config --global user.email User_email_id\n",
    "git config --global core.autocrlf true(Win)/input(Mac)\n",
    "git config --global --list\n",
    "\n",
    "\n",
    "git clone Repo_link -> Clones the repository from cloud to your local system\n",
    "git status - to check the status of the repo\n",
    "git add Dir_name/FileName_with_Extension - Move the file to staging area\n",
    "git commit - m 'msg' - move the file to local repo with the msg\n",
    "git push - push the code to cloud repo (Will ask for credentail while doing first time)\n",
    "gil pull - pulling all the changes from your cloud repo to local repo\n",
    "\n",
    "\n",
    "# File realted operation\n",
    "To open a file from CLI - vim filename.ext\n",
    "to go into insert mode - press 'i'\n",
    "to save and exit - press - 'esc' + :wq\n",
    "    \n",
    "\n",
    "\n",
    "\n"
   ]
  },
  {
   "cell_type": "code",
   "execution_count": null,
   "metadata": {},
   "outputs": [],
   "source": [
    "give me 3 more mins guys, plz"
   ]
  },
  {
   "cell_type": "markdown",
   "metadata": {},
   "source": [
    "# Why we use OS and Programming Language? "
   ]
  },
  {
   "cell_type": "code",
   "execution_count": null,
   "metadata": {},
   "outputs": [],
   "source": [
    "# OS - Operating Sytem - System Software - First Application which gets loaded into the RAM\n",
    "# OS is responsible to allocate the resources for the other application running on our system\n",
    "\n",
    "# resources - Memory, I/O devices, CPU etc\n",
    "\n",
    "# Programming Languages - are used to get our task done\n",
    "\n",
    "# Calculate the Expenses - Calculator\n",
    "# Writing a letter - Notepad\n",
    "# Edit some image - paint\n",
    "\n",
    "# All these applications can be developed using some PL\n",
    "\n"
   ]
  },
  {
   "cell_type": "code",
   "execution_count": null,
   "metadata": {},
   "outputs": [],
   "source": [
    "# to Develop\n",
    "    - Banking Applications\n",
    "    - Databse Applications\n",
    "    - Desktop application\n",
    "    - Web Application\n",
    "    - IoT application\n",
    "    - Data Analysis\n",
    "    - Sceintific Calculation / Research\n",
    "    - AI/ML application"
   ]
  },
  {
   "cell_type": "code",
   "execution_count": null,
   "metadata": {},
   "outputs": [],
   "source": [
    "# Python\n",
    "\n",
    "# Performance is slow\n",
    "# Not suitable for devloping mobile application\n",
    "\n"
   ]
  },
  {
   "cell_type": "code",
   "execution_count": null,
   "metadata": {},
   "outputs": [],
   "source": [
    "# Classification of PL\n",
    "#     High Level - Python, Java, C, C++\n",
    "#     Low Level - Machine Language(Binaty Language(0 & 1), Assembly language etc"
   ]
  },
  {
   "cell_type": "code",
   "execution_count": null,
   "metadata": {},
   "outputs": [],
   "source": [
    "# Why we are not learning Programming language\n",
    "#     Advantage - Performance is best - 0 & 1\n",
    "    \n",
    "#     Diadvantange - Not an easy task to develop complex application eg. facebook, Google, Insta"
   ]
  },
  {
   "cell_type": "code",
   "execution_count": null,
   "metadata": {},
   "outputs": [],
   "source": [
    "# Advantages of coding in High Level Programming languages:-\n",
    "#     Development time and maintenance is not overhead (easy)\n",
    "\n"
   ]
  },
  {
   "cell_type": "code",
   "execution_count": 9,
   "metadata": {},
   "outputs": [
    {
     "name": "stdout",
     "output_type": "stream",
     "text": [
      "30\n",
      "24\n",
      "24\n"
     ]
    }
   ],
   "source": [
    "# Why Python when compared with C/C++/Java other\n",
    "# 1. Python is easy to use & learn, simple and expressive language.\n",
    "# Syntaxes\n",
    "\n",
    "# Sample java code to add two numbers\n",
    "# public class AddTwoNumbers {\n",
    "\n",
    "#    public static void main(String[] args) {\n",
    "        \n",
    "#       int num1 = 5, num2 = 15, sum;\n",
    "#       sum = num1 + num2;\n",
    "\n",
    "#       System.out.println(\"Sum of these numbers: \"+sum);\n",
    "#    }\n",
    "# }\n",
    "\n",
    "# Sample python code to addtwo numbers\n",
    "a, b = 10,20\n",
    "c = a+b\n",
    "print(c)\n",
    "\n",
    "# Data scientist is a good programmer than Mathematician and a good mathematician than a programmer\n",
    "\n",
    "# Python is Dynamically typed Programming langauge - Runtime\n",
    "\n",
    "# Compile time - C,C++,Java etc - Compilation step - Statically type\n",
    "\n",
    "# Sample java code to add two numbers\n",
    "# public class AddTwoNumbers {\n",
    "\n",
    "#    public static void main(String[] args) {\n",
    "        \n",
    "#       int num1 = 5;\n",
    "#       float num2 = 15;\n",
    "#       float sum;\n",
    "#       sum = num1 + num2;\n",
    "\n",
    "#       System.out.println(\"Sum of these numbers: \"+sum);\n",
    "#    }\n",
    "# }\n",
    "\n",
    "# Run time - Python, Perl, Javascript etc - Running the code directly - Dynaically typed\n",
    "import sys\n",
    "# a, b = 10,20.30\n",
    "# print(type(a), type(b))\n",
    "# print(sys.getsizeof(a))\n",
    "# print(sys.getsizeof(b))\n",
    "# c = a+b\n",
    "# print(c)\n",
    "\n",
    "# a = 10\n",
    "# b = 10000000000000000000000000000000000000000000000000000000\n",
    "# print(sys.getsizeof(a))\n",
    "# print(sys.getsizeof(b))\n",
    "\n",
    "\n",
    "a = 10.20\n",
    "b = 10000000000000000000000000000.872365872635876238735682\n",
    "print(sys.getsizeof(a))\n",
    "print(sys.getsizeof(b))\n",
    "\n",
    "# Memory management policies adopted by different object in Python\n",
    "\n",
    "# Python is Interpreted Language\n",
    "Compilation - Type check and Memory allocation, syntax check - C/C++/Java\n",
    "Interpreted - Compilation(Syntax Chhecking) Interpretation(Type check and Memory allocation)\n",
    "\n",
    "Compiler - Takes the whole source file and translates it to Byte code if there is no Syntax Error in Source file\n",
    "Interpretr - Translates the Byte code to Machine code instruction by instruction and stops the execution immediate;y if any run tie Error is found\n",
    "\n",
    "\n",
    "Python Code is Executed as below:\n",
    "Source code - Compiled - Byte code - Interpreted - Machine code - Output\n"
   ]
  },
  {
   "cell_type": "code",
   "execution_count": null,
   "metadata": {},
   "outputs": [],
   "source": [
    "# Sourec code - FileName.py\n",
    "# Byte code/Object Code/Portable code/ p-code - FileName.pyc\n",
    "# Machine code - 0 & 1"
   ]
  },
  {
   "cell_type": "code",
   "execution_count": null,
   "metadata": {},
   "outputs": [],
   "source": []
  },
  {
   "cell_type": "code",
   "execution_count": null,
   "metadata": {},
   "outputs": [],
   "source": []
  },
  {
   "cell_type": "code",
   "execution_count": null,
   "metadata": {},
   "outputs": [],
   "source": []
  },
  {
   "cell_type": "code",
   "execution_count": null,
   "metadata": {},
   "outputs": [],
   "source": []
  },
  {
   "cell_type": "code",
   "execution_count": null,
   "metadata": {},
   "outputs": [],
   "source": []
  },
  {
   "cell_type": "code",
   "execution_count": null,
   "metadata": {},
   "outputs": [],
   "source": []
  },
  {
   "cell_type": "code",
   "execution_count": null,
   "metadata": {},
   "outputs": [],
   "source": []
  },
  {
   "cell_type": "code",
   "execution_count": null,
   "metadata": {},
   "outputs": [],
   "source": []
  },
  {
   "cell_type": "code",
   "execution_count": null,
   "metadata": {},
   "outputs": [],
   "source": []
  },
  {
   "cell_type": "code",
   "execution_count": null,
   "metadata": {},
   "outputs": [],
   "source": []
  },
  {
   "cell_type": "code",
   "execution_count": null,
   "metadata": {},
   "outputs": [],
   "source": []
  },
  {
   "cell_type": "code",
   "execution_count": null,
   "metadata": {},
   "outputs": [],
   "source": []
  },
  {
   "cell_type": "code",
   "execution_count": null,
   "metadata": {},
   "outputs": [],
   "source": []
  },
  {
   "cell_type": "code",
   "execution_count": null,
   "metadata": {},
   "outputs": [],
   "source": []
  },
  {
   "cell_type": "code",
   "execution_count": null,
   "metadata": {},
   "outputs": [],
   "source": []
  },
  {
   "cell_type": "code",
   "execution_count": null,
   "metadata": {},
   "outputs": [],
   "source": []
  },
  {
   "cell_type": "code",
   "execution_count": null,
   "metadata": {},
   "outputs": [],
   "source": []
  },
  {
   "cell_type": "code",
   "execution_count": null,
   "metadata": {},
   "outputs": [],
   "source": []
  },
  {
   "cell_type": "code",
   "execution_count": null,
   "metadata": {},
   "outputs": [],
   "source": []
  },
  {
   "cell_type": "code",
   "execution_count": null,
   "metadata": {},
   "outputs": [],
   "source": []
  },
  {
   "cell_type": "code",
   "execution_count": null,
   "metadata": {},
   "outputs": [],
   "source": []
  },
  {
   "cell_type": "code",
   "execution_count": null,
   "metadata": {},
   "outputs": [],
   "source": []
  },
  {
   "cell_type": "code",
   "execution_count": null,
   "metadata": {},
   "outputs": [],
   "source": []
  },
  {
   "cell_type": "code",
   "execution_count": null,
   "metadata": {},
   "outputs": [],
   "source": []
  },
  {
   "cell_type": "code",
   "execution_count": null,
   "metadata": {},
   "outputs": [],
   "source": []
  },
  {
   "cell_type": "code",
   "execution_count": null,
   "metadata": {},
   "outputs": [],
   "source": []
  },
  {
   "cell_type": "code",
   "execution_count": null,
   "metadata": {},
   "outputs": [],
   "source": []
  },
  {
   "cell_type": "code",
   "execution_count": null,
   "metadata": {},
   "outputs": [],
   "source": []
  },
  {
   "cell_type": "code",
   "execution_count": null,
   "metadata": {},
   "outputs": [],
   "source": []
  },
  {
   "cell_type": "code",
   "execution_count": null,
   "metadata": {},
   "outputs": [],
   "source": []
  },
  {
   "cell_type": "code",
   "execution_count": null,
   "metadata": {},
   "outputs": [],
   "source": []
  },
  {
   "cell_type": "code",
   "execution_count": null,
   "metadata": {},
   "outputs": [],
   "source": []
  },
  {
   "cell_type": "code",
   "execution_count": null,
   "metadata": {},
   "outputs": [],
   "source": []
  },
  {
   "cell_type": "code",
   "execution_count": null,
   "metadata": {},
   "outputs": [],
   "source": []
  },
  {
   "cell_type": "code",
   "execution_count": null,
   "metadata": {},
   "outputs": [],
   "source": []
  },
  {
   "cell_type": "code",
   "execution_count": null,
   "metadata": {},
   "outputs": [],
   "source": []
  },
  {
   "cell_type": "code",
   "execution_count": null,
   "metadata": {},
   "outputs": [],
   "source": []
  },
  {
   "cell_type": "code",
   "execution_count": null,
   "metadata": {},
   "outputs": [],
   "source": []
  },
  {
   "cell_type": "code",
   "execution_count": null,
   "metadata": {},
   "outputs": [],
   "source": []
  },
  {
   "cell_type": "code",
   "execution_count": null,
   "metadata": {},
   "outputs": [],
   "source": []
  },
  {
   "cell_type": "code",
   "execution_count": null,
   "metadata": {},
   "outputs": [],
   "source": []
  }
 ],
 "metadata": {
  "kernelspec": {
   "display_name": "Python 3",
   "language": "python",
   "name": "python3"
  },
  "language_info": {
   "codemirror_mode": {
    "name": "ipython",
    "version": 3
   },
   "file_extension": ".py",
   "mimetype": "text/x-python",
   "name": "python",
   "nbconvert_exporter": "python",
   "pygments_lexer": "ipython3",
   "version": "3.8.3"
  }
 },
 "nbformat": 4,
 "nbformat_minor": 2
}
